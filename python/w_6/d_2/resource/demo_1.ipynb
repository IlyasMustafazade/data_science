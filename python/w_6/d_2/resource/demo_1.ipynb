{
  "cells": [
    {
      "cell_type": "markdown",
      "metadata": {
        "id": "PRsUDRSyK_-o"
      },
      "source": [
        "# Hyperparameter Tuning"
      ]
    },
    {
      "cell_type": "code",
      "execution_count": 1,
      "metadata": {
        "id": "C2mOUE3NLfKx"
      },
      "outputs": [],
      "source": [
        "# Import libraries\n",
        "import pandas as pd"
      ]
    },
    {
      "cell_type": "code",
      "execution_count": 2,
      "metadata": {
        "colab": {
          "base_uri": "https://localhost:8080/",
          "height": 204
        },
        "id": "BPXFDpDyLfQh",
        "outputId": "41a15206-1c1f-4f97-f856-713bc7a754fe"
      },
      "outputs": [
        {
          "data": {
            "text/html": [
              "<div>\n",
              "<style scoped>\n",
              "    .dataframe tbody tr th:only-of-type {\n",
              "        vertical-align: middle;\n",
              "    }\n",
              "\n",
              "    .dataframe tbody tr th {\n",
              "        vertical-align: top;\n",
              "    }\n",
              "\n",
              "    .dataframe thead th {\n",
              "        text-align: right;\n",
              "    }\n",
              "</style>\n",
              "<table border=\"1\" class=\"dataframe\">\n",
              "  <thead>\n",
              "    <tr style=\"text-align: right;\">\n",
              "      <th></th>\n",
              "      <th>age</th>\n",
              "      <th>wc</th>\n",
              "      <th>education</th>\n",
              "      <th>marital status</th>\n",
              "      <th>race</th>\n",
              "      <th>gender</th>\n",
              "      <th>hours per week</th>\n",
              "      <th>IncomeClass</th>\n",
              "    </tr>\n",
              "  </thead>\n",
              "  <tbody>\n",
              "    <tr>\n",
              "      <th>0</th>\n",
              "      <td>38</td>\n",
              "      <td>Private</td>\n",
              "      <td>HS-grad</td>\n",
              "      <td>Divorced</td>\n",
              "      <td>White</td>\n",
              "      <td>Male</td>\n",
              "      <td>40</td>\n",
              "      <td>&lt;=50K</td>\n",
              "    </tr>\n",
              "    <tr>\n",
              "      <th>1</th>\n",
              "      <td>28</td>\n",
              "      <td>Private</td>\n",
              "      <td>Bachelors</td>\n",
              "      <td>Married</td>\n",
              "      <td>Black</td>\n",
              "      <td>Female</td>\n",
              "      <td>40</td>\n",
              "      <td>&lt;=50K</td>\n",
              "    </tr>\n",
              "    <tr>\n",
              "      <th>2</th>\n",
              "      <td>37</td>\n",
              "      <td>Private</td>\n",
              "      <td>Masters</td>\n",
              "      <td>Married</td>\n",
              "      <td>White</td>\n",
              "      <td>Female</td>\n",
              "      <td>40</td>\n",
              "      <td>&lt;=50K</td>\n",
              "    </tr>\n",
              "    <tr>\n",
              "      <th>3</th>\n",
              "      <td>31</td>\n",
              "      <td>Private</td>\n",
              "      <td>Masters</td>\n",
              "      <td>Never-married</td>\n",
              "      <td>White</td>\n",
              "      <td>Female</td>\n",
              "      <td>50</td>\n",
              "      <td>&gt;50K</td>\n",
              "    </tr>\n",
              "    <tr>\n",
              "      <th>4</th>\n",
              "      <td>42</td>\n",
              "      <td>Private</td>\n",
              "      <td>Bachelors</td>\n",
              "      <td>Married</td>\n",
              "      <td>White</td>\n",
              "      <td>Male</td>\n",
              "      <td>40</td>\n",
              "      <td>&gt;50K</td>\n",
              "    </tr>\n",
              "  </tbody>\n",
              "</table>\n",
              "</div>"
            ],
            "text/plain": [
              "   age        wc   education  marital status    race   gender  hours per week  \\\n",
              "0   38   Private     HS-grad        Divorced   White     Male              40   \n",
              "1   28   Private   Bachelors         Married   Black   Female              40   \n",
              "2   37   Private     Masters         Married   White   Female              40   \n",
              "3   31   Private     Masters   Never-married   White   Female              50   \n",
              "4   42   Private   Bachelors         Married   White     Male              40   \n",
              "\n",
              "  IncomeClass  \n",
              "0       <=50K  \n",
              "1       <=50K  \n",
              "2       <=50K  \n",
              "3        >50K  \n",
              "4        >50K  "
            ]
          },
          "execution_count": 2,
          "metadata": {},
          "output_type": "execute_result"
        }
      ],
      "source": [
        "# Read dataset\n",
        "data = pd.read_csv('hpt_small.csv')\n",
        "data.head()"
      ]
    },
    {
      "cell_type": "code",
      "execution_count": 3,
      "metadata": {
        "colab": {
          "base_uri": "https://localhost:8080/",
          "height": 275
        },
        "id": "rGu5dF1BLfcd",
        "outputId": "97e44775-ba11-4824-ed30-cca536accfca"
      },
      "outputs": [
        {
          "data": {
            "text/html": [
              "<div>\n",
              "<style scoped>\n",
              "    .dataframe tbody tr th:only-of-type {\n",
              "        vertical-align: middle;\n",
              "    }\n",
              "\n",
              "    .dataframe tbody tr th {\n",
              "        vertical-align: top;\n",
              "    }\n",
              "\n",
              "    .dataframe thead th {\n",
              "        text-align: right;\n",
              "    }\n",
              "</style>\n",
              "<table border=\"1\" class=\"dataframe\">\n",
              "  <thead>\n",
              "    <tr style=\"text-align: right;\">\n",
              "      <th></th>\n",
              "      <th>age</th>\n",
              "      <th>hours per week</th>\n",
              "      <th>wc_ Local-gov</th>\n",
              "      <th>wc_ Private</th>\n",
              "      <th>education_ Doctorate</th>\n",
              "      <th>education_ HS-grad</th>\n",
              "      <th>education_ Masters</th>\n",
              "      <th>education_ Preschool</th>\n",
              "      <th>education_ Prof-school</th>\n",
              "      <th>education_ Some-college</th>\n",
              "      <th>marital status_ Never-married</th>\n",
              "      <th>marital status_ Widowed</th>\n",
              "      <th>marital status_Married</th>\n",
              "      <th>race_ Asian-Pac-Islander</th>\n",
              "      <th>race_ Black</th>\n",
              "      <th>race_ Other</th>\n",
              "      <th>race_ White</th>\n",
              "      <th>gender_ Male</th>\n",
              "      <th>IncomeClass_ &gt;50K</th>\n",
              "    </tr>\n",
              "  </thead>\n",
              "  <tbody>\n",
              "    <tr>\n",
              "      <th>0</th>\n",
              "      <td>38</td>\n",
              "      <td>40</td>\n",
              "      <td>0</td>\n",
              "      <td>1</td>\n",
              "      <td>0</td>\n",
              "      <td>1</td>\n",
              "      <td>0</td>\n",
              "      <td>0</td>\n",
              "      <td>0</td>\n",
              "      <td>0</td>\n",
              "      <td>0</td>\n",
              "      <td>0</td>\n",
              "      <td>0</td>\n",
              "      <td>0</td>\n",
              "      <td>0</td>\n",
              "      <td>0</td>\n",
              "      <td>1</td>\n",
              "      <td>1</td>\n",
              "      <td>0</td>\n",
              "    </tr>\n",
              "    <tr>\n",
              "      <th>1</th>\n",
              "      <td>28</td>\n",
              "      <td>40</td>\n",
              "      <td>0</td>\n",
              "      <td>1</td>\n",
              "      <td>0</td>\n",
              "      <td>0</td>\n",
              "      <td>0</td>\n",
              "      <td>0</td>\n",
              "      <td>0</td>\n",
              "      <td>0</td>\n",
              "      <td>0</td>\n",
              "      <td>0</td>\n",
              "      <td>1</td>\n",
              "      <td>0</td>\n",
              "      <td>1</td>\n",
              "      <td>0</td>\n",
              "      <td>0</td>\n",
              "      <td>0</td>\n",
              "      <td>0</td>\n",
              "    </tr>\n",
              "    <tr>\n",
              "      <th>2</th>\n",
              "      <td>37</td>\n",
              "      <td>40</td>\n",
              "      <td>0</td>\n",
              "      <td>1</td>\n",
              "      <td>0</td>\n",
              "      <td>0</td>\n",
              "      <td>1</td>\n",
              "      <td>0</td>\n",
              "      <td>0</td>\n",
              "      <td>0</td>\n",
              "      <td>0</td>\n",
              "      <td>0</td>\n",
              "      <td>1</td>\n",
              "      <td>0</td>\n",
              "      <td>0</td>\n",
              "      <td>0</td>\n",
              "      <td>1</td>\n",
              "      <td>0</td>\n",
              "      <td>0</td>\n",
              "    </tr>\n",
              "    <tr>\n",
              "      <th>3</th>\n",
              "      <td>31</td>\n",
              "      <td>50</td>\n",
              "      <td>0</td>\n",
              "      <td>1</td>\n",
              "      <td>0</td>\n",
              "      <td>0</td>\n",
              "      <td>1</td>\n",
              "      <td>0</td>\n",
              "      <td>0</td>\n",
              "      <td>0</td>\n",
              "      <td>1</td>\n",
              "      <td>0</td>\n",
              "      <td>0</td>\n",
              "      <td>0</td>\n",
              "      <td>0</td>\n",
              "      <td>0</td>\n",
              "      <td>1</td>\n",
              "      <td>0</td>\n",
              "      <td>1</td>\n",
              "    </tr>\n",
              "    <tr>\n",
              "      <th>4</th>\n",
              "      <td>42</td>\n",
              "      <td>40</td>\n",
              "      <td>0</td>\n",
              "      <td>1</td>\n",
              "      <td>0</td>\n",
              "      <td>0</td>\n",
              "      <td>0</td>\n",
              "      <td>0</td>\n",
              "      <td>0</td>\n",
              "      <td>0</td>\n",
              "      <td>0</td>\n",
              "      <td>0</td>\n",
              "      <td>1</td>\n",
              "      <td>0</td>\n",
              "      <td>0</td>\n",
              "      <td>0</td>\n",
              "      <td>1</td>\n",
              "      <td>1</td>\n",
              "      <td>1</td>\n",
              "    </tr>\n",
              "  </tbody>\n",
              "</table>\n",
              "</div>"
            ],
            "text/plain": [
              "   age  hours per week  wc_ Local-gov  wc_ Private  education_ Doctorate  \\\n",
              "0   38              40              0            1                     0   \n",
              "1   28              40              0            1                     0   \n",
              "2   37              40              0            1                     0   \n",
              "3   31              50              0            1                     0   \n",
              "4   42              40              0            1                     0   \n",
              "\n",
              "   education_ HS-grad  education_ Masters  education_ Preschool  \\\n",
              "0                   1                   0                     0   \n",
              "1                   0                   0                     0   \n",
              "2                   0                   1                     0   \n",
              "3                   0                   1                     0   \n",
              "4                   0                   0                     0   \n",
              "\n",
              "   education_ Prof-school  education_ Some-college  \\\n",
              "0                       0                        0   \n",
              "1                       0                        0   \n",
              "2                       0                        0   \n",
              "3                       0                        0   \n",
              "4                       0                        0   \n",
              "\n",
              "   marital status_ Never-married  marital status_ Widowed  \\\n",
              "0                              0                        0   \n",
              "1                              0                        0   \n",
              "2                              0                        0   \n",
              "3                              1                        0   \n",
              "4                              0                        0   \n",
              "\n",
              "   marital status_Married  race_ Asian-Pac-Islander  race_ Black  race_ Other  \\\n",
              "0                       0                         0            0            0   \n",
              "1                       1                         0            1            0   \n",
              "2                       1                         0            0            0   \n",
              "3                       0                         0            0            0   \n",
              "4                       1                         0            0            0   \n",
              "\n",
              "   race_ White  gender_ Male  IncomeClass_ >50K  \n",
              "0            1             1                  0  \n",
              "1            0             0                  0  \n",
              "2            1             0                  0  \n",
              "3            1             0                  1  \n",
              "4            1             1                  1  "
            ]
          },
          "execution_count": 3,
          "metadata": {},
          "output_type": "execute_result"
        }
      ],
      "source": [
        "# Create Dummy variables\n",
        "data_prep = pd.get_dummies(data, drop_first=True)\n",
        "data_prep.head()"
      ]
    },
    {
      "cell_type": "code",
      "execution_count": 5,
      "metadata": {
        "id": "LizX9pE5LffE"
      },
      "outputs": [],
      "source": [
        "# Create X and Y Variables\n",
        "X = data_prep.iloc[:, :-1]\n",
        "Y = data_prep.iloc[:, -1]"
      ]
    },
    {
      "cell_type": "code",
      "execution_count": 6,
      "metadata": {
        "id": "pPrpm5QiUQwp"
      },
      "outputs": [],
      "source": [
        "from sklearn.model_selection import train_test_split \n",
        "\n",
        "X_train, X_test, y_train, y_test = train_test_split(X,Y, test_size=0.30, \n",
        "            random_state=101)"
      ]
    },
    {
      "cell_type": "code",
      "execution_count": null,
      "metadata": {
        "id": "CTr3H691UQ1Q"
      },
      "outputs": [],
      "source": []
    },
    {
      "cell_type": "markdown",
      "metadata": {
        "id": "gBn2T48fDsD7"
      },
      "source": [
        "# **hand c**"
      ]
    },
    {
      "cell_type": "code",
      "execution_count": 12,
      "metadata": {
        "id": "oeWeOBzmN5Yv"
      },
      "outputs": [],
      "source": [
        "from sklearn.svm import SVC\n",
        "svc = SVC(random_state=1234, kernel=\"rbf\",C=1)\n",
        "svc.fit(X_train, y_train)\n",
        "y_pred_1 = svc.predict(X_test)"
      ]
    },
    {
      "cell_type": "code",
      "execution_count": 13,
      "metadata": {
        "colab": {
          "base_uri": "https://localhost:8080/"
        },
        "id": "cKJQYxFfN5jn",
        "outputId": "47cb864e-481a-45af-903f-054104376f81"
      },
      "outputs": [
        {
          "name": "stdout",
          "output_type": "stream",
          "text": [
            "Accuracy: 0.7933333333333333\n"
          ]
        }
      ],
      "source": [
        "#Import scikit-learn metrics module for accuracy calculation\n",
        "from sklearn import metrics\n",
        "\n",
        "# Model Accuracy: how often is the classifier correct?\n",
        "print(\"Accuracy:\",metrics.accuracy_score(y_test, y_pred_1))"
      ]
    },
    {
      "cell_type": "code",
      "execution_count": 9,
      "metadata": {
        "id": "W-ToQKZzN5m2"
      },
      "outputs": [],
      "source": [
        "from sklearn.svm import SVC\n",
        "svc = SVC(random_state=1234, kernel=\"poly\", C = 1 )\n",
        "svc.fit(X_train, y_train)\n",
        "y_pred_2 = svc.predict(X_test)"
      ]
    },
    {
      "cell_type": "code",
      "execution_count": 14,
      "metadata": {
        "colab": {
          "base_uri": "https://localhost:8080/"
        },
        "id": "kRqlRUHNU47I",
        "outputId": "5649de41-2e07-4d90-b5d3-2a571161de40"
      },
      "outputs": [
        {
          "name": "stdout",
          "output_type": "stream",
          "text": [
            "Accuracy: 0.7733333333333333\n"
          ]
        }
      ],
      "source": [
        "#Import scikit-learn metrics module for accuracy calculation\n",
        "from sklearn import metrics\n",
        "\n",
        "# Model Accuracy: how often is the classifier correct?\n",
        "print(\"Accuracy:\",metrics.accuracy_score(y_test, y_pred_2))"
      ]
    },
    {
      "cell_type": "code",
      "execution_count": 17,
      "metadata": {
        "id": "WKyDUo70d7X1"
      },
      "outputs": [],
      "source": [
        "from sklearn.svm import SVC\n",
        "svc = SVC(random_state=1234, kernel=\"rbf\",C=2)\n",
        "svc.fit(X_train, y_train)\n",
        "y_pred_3 = svc.predict(X_test)"
      ]
    },
    {
      "cell_type": "code",
      "execution_count": 18,
      "metadata": {
        "id": "tFeOxD5Od7X3",
        "outputId": "bf923ac4-4935-4c0d-eca0-cf3c80695c17"
      },
      "outputs": [
        {
          "name": "stdout",
          "output_type": "stream",
          "text": [
            "Accuracy: 0.7866666666666666\n"
          ]
        }
      ],
      "source": [
        "from sklearn import metrics\n",
        "\n",
        "# Model Accuracy: how often is the classifier correct?\n",
        "print(\"Accuracy:\",metrics.accuracy_score(y_test, y_pred_3))"
      ]
    },
    {
      "cell_type": "markdown",
      "metadata": {
        "id": "UwU3rie0D2Dh"
      },
      "source": [
        "# **Using for loop**"
      ]
    },
    {
      "cell_type": "code",
      "execution_count": 19,
      "metadata": {
        "colab": {
          "base_uri": "https://localhost:8080/"
        },
        "id": "iCW5fzT6D0sW",
        "outputId": "9b170aa8-e42d-4f9e-9003-22387fe7d347"
      },
      "outputs": [
        {
          "name": "stdout",
          "output_type": "stream",
          "text": [
            "[0.706, 0.746, 0.714, 0.752, 0.744, 0.744, 0.732, 0.744, 0.744, 0.7460000000000001, 0.75, 0.76, 0.752, 0.7420000000000001, 0.7539999999999999, 0.756, 0.76, 0.7579999999999999, 0.76, 0.762, 0.756, 0.756, 0.762, 0.7699999999999999, 0.754, 0.752, 0.756, 0.764, 0.746, 0.76]\n"
          ]
        }
      ],
      "source": [
        "from sklearn.neighbors import KNeighborsClassifier\n",
        "from sklearn.model_selection import cross_val_score\n",
        "k_range = range(1,31)\n",
        "k_scores = []\n",
        "for k in k_range:\n",
        "  knn = KNeighborsClassifier(n_neighbors = k)\n",
        "  scores = cross_val_score(knn,X,Y,cv=10,scoring =\"accuracy\")\n",
        "  k_scores.append(scores.mean())\n",
        "print(k_scores)"
      ]
    },
    {
      "cell_type": "code",
      "execution_count": 20,
      "metadata": {
        "colab": {
          "base_uri": "https://localhost:8080/",
          "height": 296
        },
        "id": "SREBNhRUD0wc",
        "outputId": "a310cb6d-f624-4a52-c4da-b5f8c9b8aa94"
      },
      "outputs": [
        {
          "data": {
            "text/plain": [
              "Text(0, 0.5, 'Cross_validation_acc')"
            ]
          },
          "execution_count": 20,
          "metadata": {},
          "output_type": "execute_result"
        },
        {
          "data": {
            "image/png": "[encoded data removed]",
            "text/plain": [
              "<Figure size 432x288 with 1 Axes>"
            ]
          },
          "metadata": {
            "needs_background": "light"
          },
          "output_type": "display_data"
        }
      ],
      "source": [
        "import matplotlib.pyplot as plt\n",
        "plt.plot(k_range,k_scores)\n",
        "plt.xlabel(\"value of k for knn\")\n",
        "plt.ylabel(\"Cross_validation_acc\")"
      ]
    },
    {
      "cell_type": "code",
      "execution_count": null,
      "metadata": {
        "id": "_JuGDVEyD01Z"
      },
      "outputs": [],
      "source": []
    },
    {
      "cell_type": "markdown",
      "metadata": {
        "id": "1KQlg4KQK_-p"
      },
      "source": [
        "# GridSearchCV"
      ]
    },
    {
      "cell_type": "code",
      "execution_count": 21,
      "metadata": {
        "id": "V1Cly0vnVg4u"
      },
      "outputs": [],
      "source": [
        "# Import and create Support Vector Classifier\n",
        "from sklearn.svm import SVC\n",
        "svc = SVC(random_state=1234)\n",
        "\n",
        "# Import GridSearchCV\n",
        "from sklearn.model_selection import GridSearchCV\n",
        "\n",
        "# define parameters for Support Vector Classifier\n",
        "svc_param = {'C':[0.01, 0.1, 0.5, 1, 2, 5, 10], \n",
        "            'kernel':['rbf', 'linear'],\n",
        "            'gamma':[0.1, 0.25, 0.5, 1, 5]\n",
        "            }\n",
        "\n",
        "# The parameters results in 7 x 2 x 5 = 70 different combinations\n",
        "# CV=10 for 70 different combinations mean 700 jobs/model runs\n",
        "\n",
        "svc_grid = GridSearchCV(estimator=svc, \n",
        "                        param_grid=svc_param,\n",
        "                        scoring='accuracy',\n",
        "                        cv=10,\n",
        "                        n_jobs=-1,\n",
        "                        return_train_score=True)\n",
        "\n",
        "# Fit the data to do Grid Search for Support Vector\n",
        "svc_grid_fit = svc_grid.fit(X, Y)\n",
        "\n",
        "cv_results_svc = pd.DataFrame.from_dict(svc_grid_fit.cv_results_)\n",
        "\n",
        "svc_top_rank = cv_results_svc[cv_results_svc['rank_test_score'] == 1]"
      ]
    },
    {
      "cell_type": "code",
      "execution_count": null,
      "metadata": {
        "colab": {
          "base_uri": "https://localhost:8080/",
          "height": 564
        },
        "id": "cwZbIPHnWBg3",
        "outputId": "dbe60b57-fed0-44b7-9c95-3361b0a4eb74"
      },
      "outputs": [
        {
          "data": {
            "text/html": [
              "<div>\n",
              "<style scoped>\n",
              "    .dataframe tbody tr th:only-of-type {\n",
              "        vertical-align: middle;\n",
              "    }\n",
              "\n",
              "    .dataframe tbody tr th {\n",
              "        vertical-align: top;\n",
              "    }\n",
              "\n",
              "    .dataframe thead th {\n",
              "        text-align: right;\n",
              "    }\n",
              "</style>\n",
              "<table border=\"1\" class=\"dataframe\">\n",
              "  <thead>\n",
              "    <tr style=\"text-align: right;\">\n",
              "      <th></th>\n",
              "      <th>mean_fit_time</th>\n",
              "      <th>std_fit_time</th>\n",
              "      <th>mean_score_time</th>\n",
              "      <th>std_score_time</th>\n",
              "      <th>param_C</th>\n",
              "      <th>param_gamma</th>\n",
              "      <th>param_kernel</th>\n",
              "      <th>params</th>\n",
              "      <th>split0_test_score</th>\n",
              "      <th>split1_test_score</th>\n",
              "      <th>...</th>\n",
              "      <th>split2_train_score</th>\n",
              "      <th>split3_train_score</th>\n",
              "      <th>split4_train_score</th>\n",
              "      <th>split5_train_score</th>\n",
              "      <th>split6_train_score</th>\n",
              "      <th>split7_train_score</th>\n",
              "      <th>split8_train_score</th>\n",
              "      <th>split9_train_score</th>\n",
              "      <th>mean_train_score</th>\n",
              "      <th>std_train_score</th>\n",
              "    </tr>\n",
              "  </thead>\n",
              "  <tbody>\n",
              "    <tr>\n",
              "      <th>51</th>\n",
              "      <td>0.245814</td>\n",
              "      <td>0.089210</td>\n",
              "      <td>0.0021</td>\n",
              "      <td>2.999862e-04</td>\n",
              "      <td>5</td>\n",
              "      <td>0.1</td>\n",
              "      <td>linear</td>\n",
              "      <td>{'C': 5, 'gamma': 0.1, 'kernel': 'linear'}</td>\n",
              "      <td>0.74</td>\n",
              "      <td>0.86</td>\n",
              "      <td>...</td>\n",
              "      <td>0.833333</td>\n",
              "      <td>0.835556</td>\n",
              "      <td>0.828889</td>\n",
              "      <td>0.831111</td>\n",
              "      <td>0.824444</td>\n",
              "      <td>0.828889</td>\n",
              "      <td>0.835556</td>\n",
              "      <td>0.835556</td>\n",
              "      <td>0.832444</td>\n",
              "      <td>0.004787</td>\n",
              "    </tr>\n",
              "    <tr>\n",
              "      <th>53</th>\n",
              "      <td>0.244314</td>\n",
              "      <td>0.083960</td>\n",
              "      <td>0.0020</td>\n",
              "      <td>1.092571e-07</td>\n",
              "      <td>5</td>\n",
              "      <td>0.25</td>\n",
              "      <td>linear</td>\n",
              "      <td>{'C': 5, 'gamma': 0.25, 'kernel': 'linear'}</td>\n",
              "      <td>0.74</td>\n",
              "      <td>0.86</td>\n",
              "      <td>...</td>\n",
              "      <td>0.833333</td>\n",
              "      <td>0.835556</td>\n",
              "      <td>0.828889</td>\n",
              "      <td>0.831111</td>\n",
              "      <td>0.824444</td>\n",
              "      <td>0.828889</td>\n",
              "      <td>0.835556</td>\n",
              "      <td>0.835556</td>\n",
              "      <td>0.832444</td>\n",
              "      <td>0.004787</td>\n",
              "    </tr>\n",
              "    <tr>\n",
              "      <th>55</th>\n",
              "      <td>0.239214</td>\n",
              "      <td>0.080852</td>\n",
              "      <td>0.0017</td>\n",
              "      <td>4.583336e-04</td>\n",
              "      <td>5</td>\n",
              "      <td>0.5</td>\n",
              "      <td>linear</td>\n",
              "      <td>{'C': 5, 'gamma': 0.5, 'kernel': 'linear'}</td>\n",
              "      <td>0.74</td>\n",
              "      <td>0.86</td>\n",
              "      <td>...</td>\n",
              "      <td>0.833333</td>\n",
              "      <td>0.835556</td>\n",
              "      <td>0.828889</td>\n",
              "      <td>0.831111</td>\n",
              "      <td>0.824444</td>\n",
              "      <td>0.828889</td>\n",
              "      <td>0.835556</td>\n",
              "      <td>0.835556</td>\n",
              "      <td>0.832444</td>\n",
              "      <td>0.004787</td>\n",
              "    </tr>\n",
              "    <tr>\n",
              "      <th>57</th>\n",
              "      <td>0.254015</td>\n",
              "      <td>0.091317</td>\n",
              "      <td>0.0018</td>\n",
              "      <td>3.999829e-04</td>\n",
              "      <td>5</td>\n",
              "      <td>1</td>\n",
              "      <td>linear</td>\n",
              "      <td>{'C': 5, 'gamma': 1, 'kernel': 'linear'}</td>\n",
              "      <td>0.74</td>\n",
              "      <td>0.86</td>\n",
              "      <td>...</td>\n",
              "      <td>0.833333</td>\n",
              "      <td>0.835556</td>\n",
              "      <td>0.828889</td>\n",
              "      <td>0.831111</td>\n",
              "      <td>0.824444</td>\n",
              "      <td>0.828889</td>\n",
              "      <td>0.835556</td>\n",
              "      <td>0.835556</td>\n",
              "      <td>0.832444</td>\n",
              "      <td>0.004787</td>\n",
              "    </tr>\n",
              "    <tr>\n",
              "      <th>59</th>\n",
              "      <td>0.239314</td>\n",
              "      <td>0.083278</td>\n",
              "      <td>0.0020</td>\n",
              "      <td>9.536743e-08</td>\n",
              "      <td>5</td>\n",
              "      <td>5</td>\n",
              "      <td>linear</td>\n",
              "      <td>{'C': 5, 'gamma': 5, 'kernel': 'linear'}</td>\n",
              "      <td>0.74</td>\n",
              "      <td>0.86</td>\n",
              "      <td>...</td>\n",
              "      <td>0.833333</td>\n",
              "      <td>0.835556</td>\n",
              "      <td>0.828889</td>\n",
              "      <td>0.831111</td>\n",
              "      <td>0.824444</td>\n",
              "      <td>0.828889</td>\n",
              "      <td>0.835556</td>\n",
              "      <td>0.835556</td>\n",
              "      <td>0.832444</td>\n",
              "      <td>0.004787</td>\n",
              "    </tr>\n",
              "  </tbody>\n",
              "</table>\n",
              "<p>5 rows × 33 columns</p>\n",
              "</div>"
            ],
            "text/plain": [
              "    mean_fit_time  std_fit_time  mean_score_time  std_score_time param_C  \\\n",
              "51       0.245814      0.089210           0.0021    2.999862e-04       5   \n",
              "53       0.244314      0.083960           0.0020    1.092571e-07       5   \n",
              "55       0.239214      0.080852           0.0017    4.583336e-04       5   \n",
              "57       0.254015      0.091317           0.0018    3.999829e-04       5   \n",
              "59       0.239314      0.083278           0.0020    9.536743e-08       5   \n",
              "\n",
              "   param_gamma param_kernel                                       params  \\\n",
              "51         0.1       linear   {'C': 5, 'gamma': 0.1, 'kernel': 'linear'}   \n",
              "53        0.25       linear  {'C': 5, 'gamma': 0.25, 'kernel': 'linear'}   \n",
              "55         0.5       linear   {'C': 5, 'gamma': 0.5, 'kernel': 'linear'}   \n",
              "57           1       linear     {'C': 5, 'gamma': 1, 'kernel': 'linear'}   \n",
              "59           5       linear     {'C': 5, 'gamma': 5, 'kernel': 'linear'}   \n",
              "\n",
              "    split0_test_score  split1_test_score  ...  split2_train_score  \\\n",
              "51               0.74               0.86  ...            0.833333   \n",
              "53               0.74               0.86  ...            0.833333   \n",
              "55               0.74               0.86  ...            0.833333   \n",
              "57               0.74               0.86  ...            0.833333   \n",
              "59               0.74               0.86  ...            0.833333   \n",
              "\n",
              "    split3_train_score  split4_train_score  split5_train_score  \\\n",
              "51            0.835556            0.828889            0.831111   \n",
              "53            0.835556            0.828889            0.831111   \n",
              "55            0.835556            0.828889            0.831111   \n",
              "57            0.835556            0.828889            0.831111   \n",
              "59            0.835556            0.828889            0.831111   \n",
              "\n",
              "    split6_train_score  split7_train_score  split8_train_score  \\\n",
              "51            0.824444            0.828889            0.835556   \n",
              "53            0.824444            0.828889            0.835556   \n",
              "55            0.824444            0.828889            0.835556   \n",
              "57            0.824444            0.828889            0.835556   \n",
              "59            0.824444            0.828889            0.835556   \n",
              "\n",
              "    split9_train_score  mean_train_score  std_train_score  \n",
              "51            0.835556          0.832444         0.004787  \n",
              "53            0.835556          0.832444         0.004787  \n",
              "55            0.835556          0.832444         0.004787  \n",
              "57            0.835556          0.832444         0.004787  \n",
              "59            0.835556          0.832444         0.004787  \n",
              "\n",
              "[5 rows x 33 columns]"
            ]
          },
          "execution_count": 13,
          "metadata": {
            "tags": []
          },
          "output_type": "execute_result"
        }
      ],
      "source": [
        "svc_top_rank.head()"
      ]
    },
    {
      "cell_type": "code",
      "execution_count": null,
      "metadata": {
        "colab": {
          "base_uri": "https://localhost:8080/"
        },
        "id": "6kJO8yxpK_-q",
        "outputId": "d4fc72ae-5803-43c2-a9e7-419ca8424262"
      },
      "outputs": [
        {
          "name": "stdout",
          "output_type": "stream",
          "text": [
            "Fitting 10 folds for each of 63 candidates, totalling 630 fits\n"
          ]
        },
        {
          "name": "stderr",
          "output_type": "stream",
          "text": [
            "[Parallel(n_jobs=-1)]: Using backend LokyBackend with 8 concurrent workers.\n",
            "[Parallel(n_jobs=-1)]: Done  64 tasks      | elapsed:    0.2s\n",
            "[Parallel(n_jobs=-1)]: Done 630 out of 630 | elapsed:    1.8s finished\n"
          ]
        },
        {
          "name": "stdout",
          "output_type": "stream",
          "text": [
            "\n",
            "\n",
            "\n",
            "Random Forest Classifier\n",
            "32    0.816\n",
            "Name: mean_test_score, dtype: float64\n",
            "32    0.856444\n",
            "Name: mean_train_score, dtype: float64\n",
            "\n",
            " The best Parameters are : \n",
            "{'min_samples_leaf': 4, 'min_samples_split': 8, 'n_estimators': 20}\n",
            "\n",
            "\n",
            "\n",
            "Logistic Regression Classifier\n",
            "36    0.824\n",
            "Name: mean_test_score, dtype: float64\n",
            "36    0.833333\n",
            "Name: mean_train_score, dtype: float64\n",
            "\n",
            " The best Parameters are : \n",
            "{'C': 2, 'penalty': 'l1', 'solver': 'liblinear'}\n",
            "\n",
            "\n",
            "\n",
            "Support Vector Classifier\n",
            "51    0.82\n",
            "53    0.82\n",
            "55    0.82\n",
            "57    0.82\n",
            "59    0.82\n",
            "61    0.82\n",
            "63    0.82\n",
            "65    0.82\n",
            "67    0.82\n",
            "69    0.82\n",
            "Name: mean_test_score, dtype: float64\n",
            "51    0.832444\n",
            "53    0.832444\n",
            "55    0.832444\n",
            "57    0.832444\n",
            "59    0.832444\n",
            "61    0.832444\n",
            "63    0.832444\n",
            "65    0.832444\n",
            "67    0.832444\n",
            "69    0.832444\n",
            "Name: mean_train_score, dtype: float64\n",
            "\n",
            " The best Parameters are : \n",
            "{'C': 5, 'gamma': 0.1, 'kernel': 'linear'}\n"
          ]
        }
      ],
      "source": [
        "# -----------------------------------------------------------------\n",
        "# Compare multiple Classifiers and tune the hyperparameters \n",
        "# using GridSearchCV\n",
        "# -----------------------------------------------------------------\n",
        "\n",
        "# Import and create Random Forest Classifier\n",
        "from sklearn.ensemble import RandomForestClassifier\n",
        "rfc = RandomForestClassifier(random_state=1234)\n",
        "\n",
        "# Import and create Support Vector Classifier\n",
        "from sklearn.svm import SVC\n",
        "svc = SVC(random_state=1234)\n",
        "\n",
        "# Import and create Logistic Regression Classifier\n",
        "from sklearn.linear_model import LogisticRegression\n",
        "lrc = LogisticRegression(random_state=1234)\n",
        "\n",
        "\n",
        "# Import GridSearchCV\n",
        "from sklearn.model_selection import GridSearchCV\n",
        "\n",
        "# Define parameters for Random Forest\n",
        "rfc_param = {'n_estimators':[10,15,20,100,200], \n",
        "            'min_samples_split':[8,16],\n",
        "            'min_samples_leaf':[1,2,3,4,5]\n",
        "            }\n",
        "\n",
        "# The parameters results in 3 x 2 x 5 = 30 different combinations\n",
        "# CV=10 for 30 different combinations mean 300 jobs/model runs\n",
        "\n",
        "rfc_grid = GridSearchCV(estimator=rfc, \n",
        "                        param_grid=rfc_param,\n",
        "                        scoring='accuracy',\n",
        "                        cv=10,\n",
        "                        n_jobs=-1,\n",
        "                        return_train_score=True)\n",
        "\n",
        "# Fit the data to do Grid Search\n",
        "rfc_grid_fit = rfc_grid.fit(X, Y)\n",
        "\n",
        "# Get the results of the GridSearchCV\n",
        "cv_results_rfc = pd.DataFrame.from_dict(rfc_grid_fit.cv_results_)\n",
        "\n",
        "\n",
        "\n",
        "# Define parameters for Logistic Regression\n",
        "lrc_param = {'C':[0.01, 0.1, 0.5, 1, 2, 5, 10], \n",
        "            'penalty':[\"l1\", \"l2\", \"elasticnet\"],\n",
        "            'solver':['liblinear','lbfgs', 'saga']\n",
        "            }\n",
        "\n",
        "# The parameters results in 7 x 1 x 3 = 21 different combinations\n",
        "# CV=10 for 21 different combinations mean 210 jobs/model runs\n",
        "\n",
        "lrc_grid = GridSearchCV(estimator=lrc, \n",
        "                        param_grid=lrc_param,\n",
        "                        scoring='accuracy',\n",
        "                        cv=10,\n",
        "                        n_jobs=-1,\n",
        "                        return_train_score=True,\n",
        "                        verbose=True)\n",
        "\n",
        "# Fit the data to do Grid Search using Logistic Regression\n",
        "lrc_grid_fit = lrc_grid.fit(X, Y)\n",
        "\n",
        "# Get the Grid Search results for Logistic Regression\n",
        "cv_results_lrc = pd.DataFrame.from_dict(lrc_grid_fit.cv_results_)\n",
        "\n",
        "\n",
        "# define parameters for Support Vector Classifier\n",
        "svc_param = {'C':[0.01, 0.1, 0.5, 1, 2, 5, 10], \n",
        "            'kernel':['rbf', 'linear'],\n",
        "            'gamma':[0.1, 0.25, 0.5, 1, 5]\n",
        "            }\n",
        "\n",
        "# The parameters results in 7 x 2 x 5 = 70 different combinations\n",
        "# CV=10 for 70 different combinations mean 700 jobs/model runs\n",
        "\n",
        "svc_grid = GridSearchCV(estimator=svc, \n",
        "                        param_grid=svc_param,\n",
        "                        scoring='accuracy',\n",
        "                        cv=10,\n",
        "                        n_jobs=-1,\n",
        "                        return_train_score=True)\n",
        "\n",
        "# Fit the data to do Grid Search for Support Vector\n",
        "svc_grid_fit = svc_grid.fit(X, Y)\n",
        "\n",
        "# Get the Grid Search results for Support Vector\n",
        "cv_results_svc = pd.DataFrame.from_dict(svc_grid_fit.cv_results_)\n",
        "\n",
        "# Get the top ranked test score for all the three classifiers\n",
        "rfc_top_rank = cv_results_rfc[cv_results_rfc['rank_test_score'] == 1]\n",
        "lrc_top_rank = cv_results_lrc[cv_results_lrc['rank_test_score'] == 1]\n",
        "svc_top_rank = cv_results_svc[cv_results_svc['rank_test_score'] == 1]\n",
        "\n",
        "\n",
        "# Print the train and test score of the Random Forest Classifier\n",
        "\n",
        "print('\\n\\n')\n",
        "print('Random Forest Classifier')\n",
        "print(rfc_top_rank['mean_test_score'])\n",
        "print(rfc_top_rank['mean_train_score'])\n",
        "\n",
        "# Print the best parameters of the Random Forest Classifier\n",
        "print('\\n The best Parameters are : ')\n",
        "print(rfc_grid_fit.best_params_)\n",
        "\n",
        "# Print the train and test score of the Logistic Regression Classifier\n",
        "\n",
        "print('\\n\\n')\n",
        "print('Logistic Regression Classifier')\n",
        "print(lrc_top_rank['mean_test_score'])\n",
        "print(lrc_top_rank['mean_train_score'])\n",
        "\n",
        "# Print the best parameters of the Logistic Regression Classifier\n",
        "print('\\n The best Parameters are : ')\n",
        "print(lrc_grid_fit.best_params_)\n",
        "\n",
        "# Print the train and test score of the Support Vector Classifier\n",
        "\n",
        "print('\\n\\n')\n",
        "print('Support Vector Classifier')\n",
        "print(svc_top_rank['mean_test_score'])\n",
        "print(svc_top_rank['mean_train_score'])\n",
        "\n",
        "# Print the best parameters of the Support Vector Classifier\n",
        "print('\\n The best Parameters are : ')\n",
        "print(svc_grid_fit.best_params_)\n"
      ]
    },
    {
      "cell_type": "code",
      "execution_count": null,
      "metadata": {
        "id": "84Nu0u6tK_-v"
      },
      "outputs": [],
      "source": []
    },
    {
      "cell_type": "markdown",
      "metadata": {
        "id": "2h0mcr-UK_-w"
      },
      "source": [
        "# RandomizedSearchCV "
      ]
    },
    {
      "cell_type": "code",
      "execution_count": null,
      "metadata": {
        "id": "ybmMK9AzK_-x",
        "outputId": "b91155fe-97d3-4ac9-f9ad-bf2198533639"
      },
      "outputs": [
        {
          "name": "stdout",
          "output_type": "stream",
          "text": [
            "\n",
            "\n",
            "\n",
            "Random Forest Classifier\n",
            "3    0.812\n",
            "Name: mean_test_score, dtype: float64\n",
            "3    0.835556\n",
            "Name: mean_train_score, dtype: float64\n",
            "\n",
            " The best Parameters are : \n",
            "{'n_estimators': 20, 'min_samples_split': 16, 'min_samples_leaf': 6}\n"
          ]
        }
      ],
      "source": [
        "# -----------------------------------------------------------------\n",
        "# Perform RandomizedSearchCV for hyperparameter tuning\n",
        "# -----------------------------------------------------------------\n",
        "\n",
        "# Import libraries\n",
        "import pandas as pd\n",
        "\n",
        "# Read dataset\n",
        "data = pd.read_csv('hpt_small.csv')\n",
        "\n",
        "# Create Dummy variables\n",
        "data_prep = pd.get_dummies(data, drop_first=True)\n",
        "\n",
        "# Create X and Y Variables\n",
        "X = data_prep.iloc[:, :-1]\n",
        "Y = data_prep.iloc[:, -1]\n",
        "\n",
        "# Import and create Random Forest Classifier\n",
        "from sklearn.ensemble import RandomForestClassifier\n",
        "rfc = RandomForestClassifier(random_state=1234)\n",
        "\n",
        "# Import RandomizedSearchCV\n",
        "from sklearn.model_selection import RandomizedSearchCV\n",
        "\n",
        "# define parameters for Random Forest\n",
        "rfc_param = {'n_estimators':[5,10,15,20,30,40], \n",
        "            'min_samples_split':[8,16,32,64],\n",
        "            'min_samples_leaf':[1,2,3,4,5,6,7,8,9,10,11,12,13,14,15]\n",
        "            }\n",
        "\n",
        "# The parameters results in 3 x 2 x 5 = 30 different combinations\n",
        "\n",
        "# Create the RandomizedSearchCV object\n",
        "rfc_rs = RandomizedSearchCV(estimator=rfc, \n",
        "                        param_distributions=rfc_param,\n",
        "                        scoring='accuracy',\n",
        "                        cv=10,\n",
        "                        n_iter=10,\n",
        "                        return_train_score=True,\n",
        "                        random_state=1234)\n",
        "\n",
        "# n_iter selects 10 combinations out of 30 possible\n",
        "# Now 10 x 10 = 100 jobs will be executed\n",
        "\n",
        "# Fit the data to RandomizedSearchCV object\n",
        "rfc_rs_fit = rfc_rs.fit(X, Y)\n",
        "\n",
        "# Get the results of RandomizedSearch\n",
        "cv_results_rfc_rs = pd.DataFrame.from_dict(rfc_rs_fit.cv_results_)\n",
        "\n",
        "rfc_rs_top_rank = cv_results_rfc_rs[cv_results_rfc_rs['rank_test_score'] == 1]\n",
        "\n",
        "print('\\n\\n')\n",
        "print('Random Forest Classifier')\n",
        "print(rfc_rs_top_rank['mean_test_score'])\n",
        "print(rfc_rs_top_rank['mean_train_score'])\n",
        "\n",
        "# Print the best parameters of Randomized Search for Random Forest\n",
        "print('\\n The best Parameters are : ')\n",
        "print(rfc_rs_fit.best_params_)"
      ]
    },
    {
      "cell_type": "code",
      "execution_count": null,
      "metadata": {
        "id": "C_4Rh1ImK_-0"
      },
      "outputs": [],
      "source": []
    },
    {
      "cell_type": "markdown",
      "metadata": {
        "id": "oVRvFfB6K_-0"
      },
      "source": [
        "# Implementation of Bayesian Optimization"
      ]
    },
    {
      "cell_type": "code",
      "execution_count": null,
      "metadata": {
        "id": "BzKaHnGXK_-2",
        "outputId": "5f85ff1b-fc3a-4d8b-8462-590e62c3b1fa"
      },
      "outputs": [
        {
          "data": {
            "image/png": "[encoded data removed]",
            "text/plain": [
              "<Figure size 432x288 with 1 Axes>"
            ]
          },
          "metadata": {
            "needs_background": "light",
            "tags": []
          },
          "output_type": "display_data"
        },
        {
          "name": "stdout",
          "output_type": "stream",
          "text": [
            ">x=0.898, f()=0.420798, actual=0.850\n",
            ">x=0.903, f()=0.478168, actual=0.683\n",
            ">x=0.902, f()=0.502637, actual=0.912\n",
            ">x=0.907, f()=0.543976, actual=0.693\n",
            ">x=0.901, f()=0.560210, actual=0.702\n",
            ">x=0.911, f()=0.567111, actual=0.632\n",
            ">x=0.894, f()=0.575531, actual=0.727\n",
            ">x=0.902, f()=0.588883, actual=0.857\n",
            ">x=0.901, f()=0.607557, actual=0.765\n",
            ">x=0.903, f()=0.617588, actual=0.802\n",
            ">x=0.901, f()=0.629050, actual=0.665\n",
            ">x=0.903, f()=0.631001, actual=1.001\n",
            ">x=0.901, f()=0.651257, actual=0.754\n",
            ">x=0.885, f()=0.641677, actual=0.624\n",
            ">x=0.905, f()=0.654935, actual=0.830\n",
            ">x=0.907, f()=0.661752, actual=0.774\n",
            ">x=0.907, f()=0.666930, actual=0.775\n",
            ">x=0.915, f()=0.660602, actual=0.645\n",
            ">x=0.902, f()=0.672863, actual=0.852\n",
            ">x=0.903, f()=0.679811, actual=0.819\n",
            ">x=0.900, f()=0.685198, actual=0.795\n",
            ">x=0.903, f()=0.689178, actual=0.866\n",
            ">x=0.897, f()=0.694189, actual=0.616\n",
            ">x=0.891, f()=0.686272, actual=0.761\n",
            ">x=0.897, f()=0.694078, actual=0.968\n",
            ">x=0.901, f()=0.704022, actual=0.771\n",
            ">x=0.895, f()=0.703764, actual=0.783\n",
            ">x=0.898, f()=0.707634, actual=0.897\n",
            ">x=0.904, f()=0.713422, actual=0.719\n",
            ">x=0.901, f()=0.714142, actual=0.917\n",
            ">x=0.906, f()=0.718108, actual=0.668\n",
            ">x=0.917, f()=0.700303, actual=0.472\n",
            ">x=0.903, f()=0.712143, actual=0.767\n",
            ">x=0.914, f()=0.701319, actual=0.693\n",
            ">x=0.890, f()=0.706502, actual=0.741\n",
            ">x=0.891, f()=0.709269, actual=0.648\n",
            ">x=0.889, f()=0.705219, actual=0.709\n",
            ">x=0.922, f()=0.677134, actual=0.468\n",
            ">x=0.894, f()=0.706556, actual=0.853\n",
            ">x=0.899, f()=0.712024, actual=0.774\n",
            ">x=0.906, f()=0.711155, actual=0.644\n",
            ">x=0.900, f()=0.712034, actual=0.719\n",
            ">x=0.902, f()=0.711972, actual=0.716\n",
            ">x=0.902, f()=0.711919, actual=0.874\n",
            ">x=0.893, f()=0.712205, actual=0.689\n",
            ">x=0.891, f()=0.710029, actual=0.550\n",
            ">x=0.892, f()=0.707193, actual=0.876\n",
            ">x=0.898, f()=0.714836, actual=0.854\n",
            ">x=0.900, f()=0.717713, actual=0.812\n",
            ">x=0.908, f()=0.714475, actual=0.800\n",
            ">x=0.894, f()=0.718596, actual=1.044\n",
            ">x=0.902, f()=0.726442, actual=0.741\n",
            ">x=0.899, f()=0.726856, actual=0.764\n",
            ">x=0.899, f()=0.727533, actual=0.861\n",
            ">x=0.900, f()=0.729778, actual=0.718\n",
            ">x=0.900, f()=0.729580, actual=0.567\n",
            ">x=0.897, f()=0.726474, actual=0.697\n",
            ">x=0.896, f()=0.725599, actual=0.793\n",
            ">x=0.901, f()=0.727387, actual=0.813\n",
            ">x=0.898, f()=0.728702, actual=0.802\n",
            ">x=0.892, f()=0.725372, actual=0.670\n",
            ">x=0.907, f()=0.725656, actual=0.920\n",
            ">x=0.886, f()=0.720053, actual=0.671\n",
            ">x=0.894, f()=0.729139, actual=0.694\n",
            ">x=0.897, f()=0.730048, actual=0.673\n",
            ">x=0.896, f()=0.728897, actual=0.779\n",
            ">x=0.899, f()=0.730544, actual=0.748\n",
            ">x=0.892, f()=0.726022, actual=0.897\n",
            ">x=0.912, f()=0.721696, actual=0.723\n",
            ">x=0.902, f()=0.733066, actual=0.727\n",
            ">x=0.898, f()=0.732787, actual=0.762\n",
            ">x=0.887, f()=0.722381, actual=0.792\n",
            ">x=0.897, f()=0.733821, actual=0.801\n",
            ">x=0.908, f()=0.730324, actual=0.765\n",
            ">x=0.894, f()=0.733257, actual=0.738\n",
            ">x=0.898, f()=0.735359, actual=0.800\n",
            ">x=0.889, f()=0.728964, actual=0.797\n",
            ">x=0.905, f()=0.735340, actual=1.007\n",
            ">x=0.888, f()=0.731521, actual=0.466\n",
            ">x=0.903, f()=0.737146, actual=0.804\n",
            ">x=0.902, f()=0.738237, actual=0.783\n",
            ">x=0.902, f()=0.738613, actual=0.889\n",
            ">x=0.924, f()=0.696685, actual=0.453\n",
            ">x=0.909, f()=0.732126, actual=0.745\n",
            ">x=0.903, f()=0.737486, actual=0.810\n",
            ">x=0.892, f()=0.734834, actual=0.651\n",
            ">x=0.903, f()=0.737242, actual=0.756\n",
            ">x=0.894, f()=0.735754, actual=0.821\n",
            ">x=0.910, f()=0.730771, actual=0.835\n",
            ">x=0.918, f()=0.715112, actual=0.729\n",
            ">x=0.904, f()=0.739337, actual=0.703\n",
            ">x=0.920, f()=0.706473, actual=0.601\n",
            ">x=0.900, f()=0.739007, actual=0.992\n",
            ">x=0.911, f()=0.732517, actual=0.701\n",
            ">x=0.909, f()=0.734997, actual=0.890\n",
            ">x=0.928, f()=0.675669, actual=0.489\n",
            ">x=0.908, f()=0.735507, actual=0.700\n",
            ">x=0.865, f()=0.674123, actual=0.304\n",
            ">x=0.867, f()=0.676154, actual=0.308\n",
            ">x=0.874, f()=0.689849, actual=0.336\n"
          ]
        },
        {
          "data": {
            "image/png": "[encoded data removed]",
            "text/plain": [
              "<Figure size 432x288 with 1 Axes>"
            ]
          },
          "metadata": {
            "needs_background": "light",
            "tags": []
          },
          "output_type": "display_data"
        },
        {
          "name": "stdout",
          "output_type": "stream",
          "text": [
            "Best Result: x=0.894, y=1.044\n"
          ]
        }
      ],
      "source": [
        "# example of bayesian optimization for a 1d function from scratch\n",
        "from math import sin\n",
        "from math import pi\n",
        "from numpy import arange\n",
        "from numpy import vstack\n",
        "from numpy import argmax\n",
        "from numpy import asarray\n",
        "from numpy.random import normal\n",
        "from numpy.random import random\n",
        "from scipy.stats import norm\n",
        "from sklearn.gaussian_process import GaussianProcessRegressor\n",
        "from warnings import catch_warnings\n",
        "from warnings import simplefilter\n",
        "from matplotlib import pyplot\n",
        "\n",
        "# objective function\n",
        "# Estimation of model fit in a given setting\n",
        "# in this example will be defined as a accuracy\n",
        "def objective(x, noise=0.1):\n",
        "    noise = normal(loc=0, scale=noise)\n",
        "    return (x**2 * sin(5 * pi * x)**6.0) + noise\n",
        "\n",
        "# surrogate or approximation for the objective function\n",
        "def surrogate(model, X):\n",
        "    # catch any warning generated when making a prediction\n",
        "    with catch_warnings():\n",
        "        # ignore generated warnings\n",
        "        simplefilter(\"ignore\")\n",
        "        return model.predict(X, return_std=True)\n",
        "\n",
        "# probability of improvement acquisition function\n",
        "def acquisition(X, Xsamples, model):\n",
        "    # calculate the best surrogate score found so far\n",
        "    yhat, _ = surrogate(model, X)\n",
        "    best = max(yhat)\n",
        "    # calculate mean and stdev via surrogate function\n",
        "    mu, std = surrogate(model, Xsamples)\n",
        "    mu = mu[:, 0]\n",
        "    # calculate the probability of improvement\n",
        "    probs = norm.cdf((mu - best) / (std+1E-9))\n",
        "    return probs\n",
        "\n",
        "# optimize the acquisition function\n",
        "def opt_acquisition(X, y, model):\n",
        "    # random search, generate random samples\n",
        "    Xsamples = random(100)\n",
        "    Xsamples = Xsamples.reshape(len(Xsamples), 1)\n",
        "    # calculate the acquisition function for each sample\n",
        "    scores = acquisition(X, Xsamples, model)\n",
        "    # locate the index of the largest scores\n",
        "    ix = argmax(scores)\n",
        "    return Xsamples[ix, 0]\n",
        "\n",
        "# plot real observations vs surrogate function\n",
        "def plot(X, y, model):\n",
        "    # scatter plot of inputs and real objective function\n",
        "    pyplot.scatter(X, y)\n",
        "    # line plot of surrogate function across domain\n",
        "    Xsamples = asarray(arange(0, 1, 0.001))\n",
        "    Xsamples = Xsamples.reshape(len(Xsamples), 1)\n",
        "    ysamples, _ = surrogate(model, Xsamples)\n",
        "    pyplot.plot(Xsamples, ysamples)\n",
        "    # show the plot\n",
        "    pyplot.show()\n",
        "\n",
        "# sample the domain sparsely with noise\n",
        "X = random(100)\n",
        "y = asarray([objective(x) for x in X])\n",
        "# reshape into rows and cols\n",
        "X = X.reshape(len(X), 1)\n",
        "y = y.reshape(len(y), 1)\n",
        "# define the model\n",
        "model = GaussianProcessRegressor()\n",
        "# fit the model\n",
        "model.fit(X, y)\n",
        "# plot before hand\n",
        "plot(X, y, model)\n",
        "# perform the optimization process\n",
        "for i in range(100):\n",
        "    # select the next point to sample\n",
        "    x = opt_acquisition(X, y, model)\n",
        "    # sample the point\n",
        "    actual = objective(x)\n",
        "    # summarize the finding\n",
        "    est, _ = surrogate(model, [[x]])\n",
        "    print('>x=%.3f, f()=%3f, actual=%.3f' % (x, est, actual))\n",
        "    # add the data to the dataset\n",
        "    X = vstack((X, [[x]]))\n",
        "    y = vstack((y, [[actual]]))\n",
        "    # update the model\n",
        "    model.fit(X, y)\n",
        "\n",
        "# plot all samples and the final surrogate function\n",
        "plot(X, y, model)\n",
        "# best result\n",
        "ix = argmax(y)\n",
        "print('Best Result: x=%.3f, y=%.3f' % (X[ix], y[ix]))"
      ]
    },
    {
      "cell_type": "code",
      "execution_count": null,
      "metadata": {
        "id": "uNcR3pOZK_-4"
      },
      "outputs": [],
      "source": [
        "rfc = rand~~~~()\n",
        "rfc.fit(X_train,y_train)\n",
        "rfc_pred = rfc(X_test)\n",
        "f-1(y_test,rfc_pred)\n",
        "\n",
        "\n",
        "rfc_pred_train= rfc(x_train)\n",
        "f-1(y_train,rfc_pred_train)\n"
      ]
    },
    {
      "cell_type": "markdown",
      "metadata": {
        "id": "IOv3G6lGK_-5"
      },
      "source": [
        "# BayesSearchCV"
      ]
    },
    {
      "cell_type": "markdown",
      "metadata": {
        "id": "YXPWmnyIK_-6"
      },
      "source": [
        "pip install scikit-optimize"
      ]
    },
    {
      "cell_type": "code",
      "execution_count": 9,
      "metadata": {
        "colab": {
          "base_uri": "https://localhost:8080/"
        },
        "id": "9C2A3oj2K_-6",
        "outputId": "621f2f05-ed1d-4e3b-94b2-889307a3a878"
      },
      "outputs": [
        {
          "name": "stdout",
          "output_type": "stream",
          "text": [
            "0.9736842105263158\n"
          ]
        }
      ],
      "source": [
        "#!pip install scikit-optimize\n",
        "from skopt import BayesSearchCV\n",
        "# parameter ranges are specified by one of below\n",
        "from skopt.space import Real, Categorical, Integer\n",
        "\n",
        "from sklearn.datasets import load_iris\n",
        "from sklearn.svm import SVC\n",
        "from sklearn.model_selection import train_test_split\n",
        "\n",
        "X, y = load_iris(True)\n",
        "X_train, X_test, y_train, y_test = train_test_split(X, y,\n",
        "                                                    train_size=0.75,\n",
        "                                                    random_state=0)\n",
        "\n",
        "# log-uniform: understand as search over p = exp(x) by varying x\n",
        "opt = BayesSearchCV(\n",
        "    SVC(),\n",
        "    {\n",
        "        'C': Real(1e-6, 1e+6, prior='log-uniform'),\n",
        "        'gamma': Real(1e-6, 1e+1, prior='log-uniform'),\n",
        "        'degree': Integer(1,8),\n",
        "        'kernel': Categorical(['linear', 'poly', 'rbf']),\n",
        "    },\n",
        "    n_iter=32,\n",
        "    random_state=0\n",
        ")\n",
        "\n",
        "# executes bayesian optimization\n",
        "_ = opt.fit(X_train, y_train)\n",
        "\n",
        "# model can be saved, used for predictions or scoring\n",
        "print(opt.score(X_test, y_test))\n",
        "\n",
        "\n"
      ]
    },
    {
      "cell_type": "code",
      "execution_count": 11,
      "metadata": {
        "colab": {
          "base_uri": "https://localhost:8080/"
        },
        "id": "j5CgGXZ0h2z1",
        "outputId": "fa8f9c13-e8db-4e91-c6f8-a31217da6ed1"
      },
      "outputs": [
        {
          "data": {
            "text/plain": [
              "<bound method BaseEstimator.get_params of BayesSearchCV(cv=None, error_score='raise',\n",
              "              estimator=SVC(C=1.0, break_ties=False, cache_size=200,\n",
              "                            class_weight=None, coef0=0.0,\n",
              "                            decision_function_shape='ovr', degree=3,\n",
              "                            gamma='scale', kernel='rbf', max_iter=-1,\n",
              "                            probability=False, random_state=None,\n",
              "                            shrinking=True, tol=0.001, verbose=False),\n",
              "              fit_params=None, iid=True, n_iter=32, n_jobs=1, n_points=1,\n",
              "              optimizer_kwargs=No...\n",
              "              refit=True, return_train_score=False, scoring=None,\n",
              "              search_spaces={'C': Real(low=1e-06, high=1000000.0, prior='log-uniform', transform='identity'),\n",
              "                             'degree': Integer(low=1, high=8, prior='uniform', transform='identity'),\n",
              "                             'gamma': Real(low=1e-06, high=10.0, prior='log-uniform', transform='identity'),\n",
              "                             'kernel': Categorical(categories=('linear', 'poly', 'rbf'), prior=None)},\n",
              "              verbose=0)>"
            ]
          },
          "execution_count": 11,
          "metadata": {
            "tags": []
          },
          "output_type": "execute_result"
        }
      ],
      "source": [
        "opt.get_params"
      ]
    },
    {
      "cell_type": "code",
      "execution_count": 16,
      "metadata": {
        "colab": {
          "base_uri": "https://localhost:8080/"
        },
        "id": "-eQIBDMhiyeD",
        "outputId": "258e23fa-afad-4e8d-fc87-0e5fe19f3e26"
      },
      "outputs": [
        {
          "data": {
            "text/plain": [
              "SVC(C=1.3361910455737007, break_ties=False, cache_size=200, class_weight=None,\n",
              "    coef0=0.0, decision_function_shape='ovr', degree=5,\n",
              "    gamma=0.11283439533114079, kernel='linear', max_iter=-1, probability=False,\n",
              "    random_state=None, shrinking=True, tol=0.001, verbose=False)"
            ]
          },
          "execution_count": 16,
          "metadata": {
            "tags": []
          },
          "output_type": "execute_result"
        }
      ],
      "source": [
        "opt.best_estimator_"
      ]
    }
  ],
  "metadata": {
    "colab": {
      "collapsed_sections": [],
      "name": "Week_6_Day_2_Hyperparameter_tuning.ipynb",
      "provenance": []
    },
    "kernelspec": {
      "display_name": "Python 3.7.4 ('base')",
      "language": "python",
      "name": "python3"
    },
    "language_info": {
      "codemirror_mode": {
        "name": "ipython",
        "version": 3
      },
      "file_extension": ".py",
      "mimetype": "text/x-python",
      "name": "python",
      "nbconvert_exporter": "python",
      "pygments_lexer": "ipython3",
      "version": "3.7.4"
    },
    "vscode": {
      "interpreter": {
        "hash": "ad2bdc8ecc057115af97d19610ffacc2b4e99fae6737bb82f5d7fb13d2f2c186"
      }
    }
  },
  "nbformat": 4,
  "nbformat_minor": 0
}
